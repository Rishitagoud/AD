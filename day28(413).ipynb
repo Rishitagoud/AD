{
  "nbformat": 4,
  "nbformat_minor": 0,
  "metadata": {
    "colab": {
      "provenance": [],
      "authorship_tag": "ABX9TyNcp46RA0rqpLMjRJ9vGnvh",
      "include_colab_link": true
    },
    "kernelspec": {
      "name": "python3",
      "display_name": "Python 3"
    },
    "language_info": {
      "name": "python"
    }
  },
  "cells": [
    {
      "cell_type": "markdown",
      "metadata": {
        "id": "view-in-github",
        "colab_type": "text"
      },
      "source": [
        "<a href=\"https://colab.research.google.com/github/Rishitagoud/AD/blob/main/day28(413).ipynb\" target=\"_parent\"><img src=\"https://colab.research.google.com/assets/colab-badge.svg\" alt=\"Open In Colab\"/></a>"
      ]
    },
    {
      "cell_type": "code",
      "execution_count": 16,
      "metadata": {
        "colab": {
          "base_uri": "https://localhost:8080/"
        },
        "id": "CqU3lFQ_9fwC",
        "outputId": "fcc3c30f-f062-4c7d-8229-6028377acdc2"
      },
      "outputs": [
        {
          "output_type": "stream",
          "name": "stdout",
          "text": [
            "Enter text for Named Entity Recognition: a\n",
            "Named Entities and their Types:\n"
          ]
        }
      ],
      "source": [
        "#28\n",
        "import spacy\n",
        "\n",
        "def perform_ner(text):\n",
        "    \"\"\"Performs Named Entity Recognition (NER) using SpaCy and prints entities and their types.\"\"\"\n",
        "    nlp = spacy.load(\"en_core_web_sm\")\n",
        "    doc = nlp(text)\n",
        "\n",
        "    print(\"Named Entities and their Types:\")\n",
        "    for ent in doc.ents:\n",
        "        print(f\"{ent.text}: {ent.label_}\")\n",
        "\n",
        "def main():\n",
        "    text = input(\"Enter text for Named Entity Recognition: \")\n",
        "    perform_ner(text)\n",
        "\n",
        "if __name__ == \"__main__\":\n",
        "    main()"
      ]
    },
    {
      "cell_type": "code",
      "source": [],
      "metadata": {
        "id": "6bmVFSat9hDU"
      },
      "execution_count": null,
      "outputs": []
    },
    {
      "cell_type": "markdown",
      "source": [],
      "metadata": {
        "id": "ozpDt5gHACak"
      }
    }
  ]
}