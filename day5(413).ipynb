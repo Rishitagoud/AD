{
  "nbformat": 4,
  "nbformat_minor": 0,
  "metadata": {
    "colab": {
      "provenance": [],
      "authorship_tag": "ABX9TyPKUozYgL883RufH4mu0YXy",
      "include_colab_link": true
    },
    "kernelspec": {
      "name": "python3",
      "display_name": "Python 3"
    },
    "language_info": {
      "name": "python"
    }
  },
  "cells": [
    {
      "cell_type": "markdown",
      "metadata": {
        "id": "view-in-github",
        "colab_type": "text"
      },
      "source": [
        "<a href=\"https://colab.research.google.com/github/Rishitagoud/AD/blob/main/day5(413).ipynb\" target=\"_parent\"><img src=\"https://colab.research.google.com/assets/colab-badge.svg\" alt=\"Open In Colab\"/></a>"
      ]
    },
    {
      "cell_type": "code",
      "execution_count": 6,
      "metadata": {
        "colab": {
          "base_uri": "https://localhost:8080/"
        },
        "id": "CqU3lFQ_9fwC",
        "outputId": "daa98ced-9890-4df6-eb95-5589651795d4"
      },
      "outputs": [
        {
          "output_type": "stream",
          "name": "stdout",
          "text": [
            "Enter a text: a\n",
            "a: 1\n"
          ]
        }
      ],
      "source": [
        "#day-5,4write a python program to calculate frequency of each word in given text . print words and their corresponding counts\n",
        "from collections import Counter\n",
        "\n",
        "def word_frequency(text):\n",
        "    # Convert text to lowercase and split into words\n",
        "    words = text.lower().split()\n",
        "\n",
        "    # Count the frequency of each word\n",
        "    word_counts = Counter(words)\n",
        "\n",
        "    # Print words and their corresponding counts\n",
        "    for word, count in word_counts.items():\n",
        "        print(f\"{word}: {count}\")\n",
        "\n",
        "# Example usage\n",
        "text = input(\"Enter a text: \")\n",
        "word_frequency(text)\n"
      ]
    },
    {
      "cell_type": "code",
      "source": [],
      "metadata": {
        "id": "6bmVFSat9hDU"
      },
      "execution_count": null,
      "outputs": []
    }
  ]
}