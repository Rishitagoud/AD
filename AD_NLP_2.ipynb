{
  "nbformat": 4,
  "nbformat_minor": 0,
  "metadata": {
    "colab": {
      "provenance": [],
      "authorship_tag": "ABX9TyOovhXxEp0d1U8K2MNGMg/F",
      "include_colab_link": true
    },
    "kernelspec": {
      "name": "python3",
      "display_name": "Python 3"
    },
    "language_info": {
      "name": "python"
    }
  },
  "cells": [
    {
      "cell_type": "markdown",
      "metadata": {
        "id": "view-in-github",
        "colab_type": "text"
      },
      "source": [
        "<a href=\"https://colab.research.google.com/github/Rishitagoud/AD/blob/main/AD_NLP_2.ipynb\" target=\"_parent\"><img src=\"https://colab.research.google.com/assets/colab-badge.svg\" alt=\"Open In Colab\"/></a>"
      ]
    },
    {
      "cell_type": "code",
      "source": [
        "def chatbot_response(user_input):\n",
        "  user_input = user_input.lower()  # Convert input to lowercase\n",
        "\n",
        "  if \"hello\" in user_input or \"hi\" in user_input:\n",
        "    return \"Hello, how can I assist you?\"\n",
        "  elif \"who are you\" in user_input:\n",
        "    return \"I am your personalized chatbot\"\n",
        "  elif \"how are you\" in user_input:\n",
        "    return \"I am good, how are you?\"\n",
        "  elif \"how was your day\" in user_input:\n",
        "    return \"It was good, what about you?\"\n",
        "  else:\n",
        "    return \"Sorry, I didn't get you! Can you ask something else?\"\n",
        "\n",
        "def run_chatbot():\n",
        "  print(\"Chatbot: Hello! Type 'bye' to exit.\")\n",
        "  while True:\n",
        "    user_input = input(\"You: \")\n",
        "    if \"bye\" in user_input.lower():\n",
        "      print(\"Chatbot: Goodbye! Have a great day!\")\n",
        "      break\n",
        "    else:\n",
        "      response = chatbot_response(user_input)\n",
        "      print(\"Chatbot: \", response)\n",
        "\n",
        "if __name__ == \"__main__\":\n",
        "  run_chatbot()"
      ],
      "metadata": {
        "colab": {
          "base_uri": "https://localhost:8080/"
        },
        "id": "R-GN8VuduZeM",
        "outputId": "9eccd8cb-bd10-4ca8-f023-3e43064c9d25"
      },
      "execution_count": 8,
      "outputs": [
        {
          "output_type": "stream",
          "name": "stdout",
          "text": [
            "Chatbot: Hello! Type 'bye' to exit.\n",
            "You: hi\n",
            "Chatbot:  Hello, how can I assist you?\n",
            "You: how was your day\n",
            "Chatbot:  It was good, what about you?\n",
            "You: bye\n",
            "Chatbot: Goodbye! Have a great day!\n"
          ]
        }
      ]
    },
    {
      "cell_type": "code",
      "source": [],
      "metadata": {
        "id": "CtIYHKZAukCu"
      },
      "execution_count": null,
      "outputs": []
    }
  ]
}