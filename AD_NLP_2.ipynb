{
  "nbformat": 4,
  "nbformat_minor": 0,
  "metadata": {
    "colab": {
      "provenance": [],
      "authorship_tag": "ABX9TyP/HIwgTTqRC+G8cb/4lwns",
      "include_colab_link": true
    },
    "kernelspec": {
      "name": "python3",
      "display_name": "Python 3"
    },
    "language_info": {
      "name": "python"
    }
  },
  "cells": [
    {
      "cell_type": "markdown",
      "metadata": {
        "id": "view-in-github",
        "colab_type": "text"
      },
      "source": [
        "<a href=\"https://colab.research.google.com/github/Rishitagoud/AD/blob/main/AD_NLP_2.ipynb\" target=\"_parent\"><img src=\"https://colab.research.google.com/assets/colab-badge.svg\" alt=\"Open In Colab\"/></a>"
      ]
    },
    {
      "cell_type": "code",
      "execution_count": 1,
      "metadata": {
        "id": "PBTK65hZnPCR"
      },
      "outputs": [],
      "source": [
        "def chatbot_response(user_input):\n",
        "  #convert user input to lowercase to make it case sensitive\n",
        "  user_input=user_input.lower()\n",
        "  #define simple rules for responses\n",
        "  if \"hello||hi\" in user_input:\n",
        "    print(\"Hello , how can i assisst you?\")\n",
        "  elif \"who are you\" in user_input:\n",
        "    print(\"I am your personalized chatbot\")\n",
        "  elif \"how are you\" in user_input:\n",
        "    print(\"I am good , how are you?\")\n",
        "  elif \"how was your day\" in user_input:\n",
        "    print(\"It was good, what about you?\")\n",
        "  else:\n",
        "    print(\"Sorry,I didnt get you! can you ask something else?\")\n",
        ""
      ]
    }
  ]
}