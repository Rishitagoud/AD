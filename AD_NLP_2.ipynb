{
  "nbformat": 4,
  "nbformat_minor": 0,
  "metadata": {
    "colab": {
      "provenance": [],
      "authorship_tag": "ABX9TyMm+CwhbU01m+M9vOaF2UGO",
      "include_colab_link": true
    },
    "kernelspec": {
      "name": "python3",
      "display_name": "Python 3"
    },
    "language_info": {
      "name": "python"
    }
  },
  "cells": [
    {
      "cell_type": "markdown",
      "metadata": {
        "id": "view-in-github",
        "colab_type": "text"
      },
      "source": [
        "<a href=\"https://colab.research.google.com/github/Rishitagoud/AD/blob/main/AD_NLP_2.ipynb\" target=\"_parent\"><img src=\"https://colab.research.google.com/assets/colab-badge.svg\" alt=\"Open In Colab\"/></a>"
      ]
    },
    {
      "cell_type": "code",
      "source": [
        "def chatbot_response(user_input):\n",
        "  user_input = user_input.lower()  # Convert input to lowercase\n",
        "\n",
        "  if \"hello\" in user_input or \"hi\" in user_input:\n",
        "    return \"Hello, how can I assist you?\"\n",
        "  elif \"who are you\" in user_input:\n",
        "    return \"I am your personalized chatbot\"\n",
        "  elif \"how are you\" in user_input:\n",
        "    return \"I am good, how are you?\"\n",
        "  elif \"how was your day\" in user_input:\n",
        "    return \"It was good, what about you?\"\n",
        "  else:\n",
        "    return \"Sorry, I didn't get you! Can you ask something else?\"\n",
        "\n",
        "def run_chatbot():\n",
        "  print(\"Chatbot: Hello! Type 'bye' to exit.\")\n",
        "  while True:\n",
        "    user_input = input(\"You: \")\n",
        "    if \"bye\" in user_input.lower():\n",
        "      print(\"Chatbot: Goodbye! Have a great day!\")\n",
        "      break\n",
        "    else:\n",
        "      response = chatbot_response(user_input)\n",
        "      print(\"Chatbot: \", response)\n",
        "\n",
        "if __name__ == \"__main__\":\n",
        "  run_chatbot()"
      ],
      "metadata": {
        "colab": {
          "base_uri": "https://localhost:8080/"
        },
        "id": "R-GN8VuduZeM",
        "outputId": "9eccd8cb-bd10-4ca8-f023-3e43064c9d25"
      },
      "execution_count": null,
      "outputs": [
        {
          "output_type": "stream",
          "name": "stdout",
          "text": [
            "Chatbot: Hello! Type 'bye' to exit.\n",
            "You: hi\n",
            "Chatbot:  Hello, how can I assist you?\n",
            "You: how was your day\n",
            "Chatbot:  It was good, what about you?\n",
            "You: bye\n",
            "Chatbot: Goodbye! Have a great day!\n"
          ]
        }
      ]
    },
    {
      "cell_type": "code",
      "source": [
        "def chatbot_response(user_input):\n",
        "  user_input = user_input.lower()  # Convert input to lowercase\n",
        "\n",
        "  if \"hello\" in user_input or \"hi\" in user_input:\n",
        "    return \"Hello, how can I assist you?\"\n",
        "  elif \"who are you\" in user_input:\n",
        "    return \"I am your personalized chatbot\"\n",
        "  elif \"how are you\" in user_input:\n",
        "    return \"I am good, how are you?\"\n",
        "  elif \"how was your day\" in user_input:\n",
        "    return \"It was good, what about you?\"\n",
        "  elif 'time' in user_input:\n",
        "    import datetime\n",
        "    now = datetime.datetime.now()\n",
        "    return f\"The current time is {now.strftime('%I:%M %p')}\"\n",
        "  else:\n",
        "    return \"Sorry, I didn't get you! Can you ask something else?\"\n",
        "\n",
        "def run_chatbot():\n",
        "  print(\"Chatbot: Hello! Type 'bye' to exit.\")\n",
        "  while True:\n",
        "    user_input = input(\"You: \")\n",
        "    if \"bye\" in user_input.lower():\n",
        "      print(\"Chatbot: Goodbye! Have a great day!\")\n",
        "      break\n",
        "    else:\n",
        "      response = chatbot_response(user_input)\n",
        "      print(\"Chatbot: \", response)\n",
        "\n",
        "if __name__ == \"__main__\":\n",
        "  run_chatbot()"
      ],
      "metadata": {
        "colab": {
          "base_uri": "https://localhost:8080/"
        },
        "id": "CtIYHKZAukCu",
        "outputId": "5f7b1533-2a7a-4214-f024-80fcb575af65"
      },
      "execution_count": null,
      "outputs": [
        {
          "output_type": "stream",
          "name": "stdout",
          "text": [
            "Chatbot: Hello! Type 'bye' to exit.\n",
            "You: hello\n",
            "Chatbot:  Hello, how can I assist you?\n",
            "You: time\n",
            "Chatbot:  The current time is 06:01\n",
            "You: time\n",
            "Chatbot:  The current time is 06:01\n",
            "You: bye\n",
            "Chatbot: Goodbye! Have a great day!\n"
          ]
        }
      ]
    },
    {
      "cell_type": "code",
      "source": [],
      "metadata": {
        "id": "flkDDiWHvjzu"
      },
      "execution_count": null,
      "outputs": []
    }
  ]
}