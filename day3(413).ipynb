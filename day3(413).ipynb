{
  "nbformat": 4,
  "nbformat_minor": 0,
  "metadata": {
    "colab": {
      "provenance": [],
      "authorship_tag": "ABX9TyPvbo6uA2KV29GZifHruFcj",
      "include_colab_link": true
    },
    "kernelspec": {
      "name": "python3",
      "display_name": "Python 3"
    },
    "language_info": {
      "name": "python"
    }
  },
  "cells": [
    {
      "cell_type": "markdown",
      "metadata": {
        "id": "view-in-github",
        "colab_type": "text"
      },
      "source": [
        "<a href=\"https://colab.research.google.com/github/Rishitagoud/AD/blob/main/day3(413).ipynb\" target=\"_parent\"><img src=\"https://colab.research.google.com/assets/colab-badge.svg\" alt=\"Open In Colab\"/></a>"
      ]
    },
    {
      "cell_type": "code",
      "execution_count": 2,
      "metadata": {
        "colab": {
          "base_uri": "https://localhost:8080/"
        },
        "id": "CqU3lFQ_9fwC",
        "outputId": "4f5a39e2-4287-46db-fd45-eaf97eb6ff15"
      },
      "outputs": [
        {
          "output_type": "stream",
          "name": "stdout",
          "text": [
            "Integer: 10, Type: <class 'int'>\n",
            "Float: 20.5, Type: <class 'float'>\n",
            "String: Hello, Jupyter!, Type: <class 'str'>\n",
            "Boolean: True, Type: <class 'bool'>\n"
          ]
        }
      ],
      "source": [
        "#day-3,2Create a List, tuple and Dictionary with 5 elements in it and how to access few elements based on the index. Try  with different examples\n",
        "integer_var = 10\n",
        "float_var = 20.5\n",
        "string_var = \"Hello, Jupyter!\"\n",
        "boolean_var = True\n",
        "print(f\"Integer: {integer_var}, Type: {type(integer_var)}\")\n",
        "print(f\"Float: {float_var}, Type: {type(float_var)}\")\n",
        "print(f\"String: {string_var}, Type: {type(string_var)}\")\n",
        "print(f\"Boolean: {boolean_var}, Type: {type(boolean_var)}\")\n"
      ]
    },
    {
      "cell_type": "code",
      "source": [],
      "metadata": {
        "id": "6bmVFSat9hDU"
      },
      "execution_count": null,
      "outputs": []
    }
  ]
}