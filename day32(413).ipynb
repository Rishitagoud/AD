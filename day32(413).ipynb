{
  "nbformat": 4,
  "nbformat_minor": 0,
  "metadata": {
    "colab": {
      "provenance": [],
      "authorship_tag": "ABX9TyPxj8gKf+XRXYKbTHOPShFh",
      "include_colab_link": true
    },
    "kernelspec": {
      "name": "python3",
      "display_name": "Python 3"
    },
    "language_info": {
      "name": "python"
    }
  },
  "cells": [
    {
      "cell_type": "markdown",
      "metadata": {
        "id": "view-in-github",
        "colab_type": "text"
      },
      "source": [
        "<a href=\"https://colab.research.google.com/github/Rishitagoud/AD/blob/main/day32(413).ipynb\" target=\"_parent\"><img src=\"https://colab.research.google.com/assets/colab-badge.svg\" alt=\"Open In Colab\"/></a>"
      ]
    },
    {
      "cell_type": "code",
      "execution_count": 18,
      "metadata": {
        "colab": {
          "base_uri": "https://localhost:8080/"
        },
        "id": "CqU3lFQ_9fwC",
        "outputId": "2f735702-9a5c-46f4-8544-e01a1ee3a01f"
      },
      "outputs": [
        {
          "output_type": "stream",
          "name": "stdout",
          "text": [
            "Enter text: a\n",
            "Top 5 most frequent tokens:\n",
            "a: 1\n"
          ]
        }
      ],
      "source": [
        "#Day 32\n",
        "import re\n",
        "from collections import Counter\n",
        "\n",
        "def tokenize(text):\n",
        "    \"\"\"Tokenizes text into words, removing punctuation and converting to lowercase.\"\"\"\n",
        "    tokens = re.findall(r'\\b\\w+\\b', text.lower())\n",
        "    return tokens\n",
        "\n",
        "def compute_tf(tokens):\n",
        "    \"\"\"Computes term frequency (TF) for each token.\"\"\"\n",
        "    return Counter(tokens)\n",
        "\n",
        "def main():\n",
        "    text = input(\"Enter text: \")  # User inputs text\n",
        "    tokens = tokenize(text)\n",
        "    tf = compute_tf(tokens)\n",
        "\n",
        "    print(\"Top 5 most frequent tokens:\")\n",
        "    for word, freq in tf.most_common(5):\n",
        "        print(f\"{word}: {freq}\")\n",
        "\n",
        "if __name__ == \"__main__\":\n",
        "    main()\n"
      ]
    },
    {
      "cell_type": "code",
      "source": [],
      "metadata": {
        "id": "6bmVFSat9hDU"
      },
      "execution_count": null,
      "outputs": []
    },
    {
      "cell_type": "markdown",
      "source": [],
      "metadata": {
        "id": "ozpDt5gHACak"
      }
    }
  ]
}