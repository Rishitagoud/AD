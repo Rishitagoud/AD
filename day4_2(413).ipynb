{
  "nbformat": 4,
  "nbformat_minor": 0,
  "metadata": {
    "colab": {
      "provenance": [],
      "authorship_tag": "ABX9TyOEYqb2TdbcIyO0BpF2+Z3d",
      "include_colab_link": true
    },
    "kernelspec": {
      "name": "python3",
      "display_name": "Python 3"
    },
    "language_info": {
      "name": "python"
    }
  },
  "cells": [
    {
      "cell_type": "markdown",
      "metadata": {
        "id": "view-in-github",
        "colab_type": "text"
      },
      "source": [
        "<a href=\"https://colab.research.google.com/github/Rishitagoud/AD/blob/main/day4_2(413).ipynb\" target=\"_parent\"><img src=\"https://colab.research.google.com/assets/colab-badge.svg\" alt=\"Open In Colab\"/></a>"
      ]
    },
    {
      "cell_type": "code",
      "execution_count": 5,
      "metadata": {
        "colab": {
          "base_uri": "https://localhost:8080/"
        },
        "id": "CqU3lFQ_9fwC",
        "outputId": "39325ecb-efc1-46fe-b26e-49de49936c7b"
      },
      "outputs": [
        {
          "output_type": "stream",
          "name": "stdout",
          "text": [
            "Enter a positive integer: 30\n",
            "The sum of all even numbers between 1 and 30 is: 240\n"
          ]
        }
      ],
      "source": [
        "#day-4,3bWrite a Python program to calculate the sum of all even numbers between 1 and a given positive integer n\n",
        "def sum_of_evens(n):\n",
        "    # Using list comprehension and sum function\n",
        "    return sum(i for i in range(2, n + 1, 2))\n",
        "\n",
        "# Taking input from the user\n",
        "n = int(input(\"Enter a positive integer: \"))\n",
        "\n",
        "# Ensuring the input is positive\n",
        "if n <= 0:\n",
        "    print(\"Please enter a positive integer.\")\n",
        "else:\n",
        "    result = sum_of_evens(n)\n",
        "    print(f\"The sum of all even numbers between 1 and {n} is: {result}\")\n"
      ]
    },
    {
      "cell_type": "code",
      "source": [],
      "metadata": {
        "id": "6bmVFSat9hDU"
      },
      "execution_count": null,
      "outputs": []
    }
  ]
}