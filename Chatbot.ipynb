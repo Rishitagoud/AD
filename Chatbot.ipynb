{
  "nbformat": 4,
  "nbformat_minor": 0,
  "metadata": {
    "colab": {
      "provenance": [],
      "authorship_tag": "ABX9TyNHSr2IRsS1VkQ50U0hwiMY",
      "include_colab_link": true
    },
    "kernelspec": {
      "name": "python3",
      "display_name": "Python 3"
    },
    "language_info": {
      "name": "python"
    }
  },
  "cells": [
    {
      "cell_type": "markdown",
      "metadata": {
        "id": "view-in-github",
        "colab_type": "text"
      },
      "source": [
        "<a href=\"https://colab.research.google.com/github/Rishitagoud/AD/blob/main/Chatbot.ipynb\" target=\"_parent\"><img src=\"https://colab.research.google.com/assets/colab-badge.svg\" alt=\"Open In Colab\"/></a>"
      ]
    },
    {
      "cell_type": "code",
      "source": [
        "def chatbot_response(user_input):\n",
        "  user_input = user_input.lower()  # Convert input to lowercase\n",
        "\n",
        "  if \"hello\" in user_input or \"hi\" in user_input:\n",
        "    return \"Hello, how can I assist you?\"\n",
        "  elif \"who are you\" in user_input:\n",
        "    return \"I am your personalized chatbot\"\n",
        "  elif \"how are you\" in user_input:\n",
        "    return \"I am good, how are you?\"\n",
        "  elif \"how was your day\" in user_input:\n",
        "    return \"It was good, what about you?\"\n",
        "  else:\n",
        "    return \"Sorry, I didn't get you! Can you ask something else?\"\n",
        "\n",
        "def run_chatbot():\n",
        "  print(\"Chatbot: Hello! Type 'bye' to exit.\")\n",
        "  while True:\n",
        "    user_input = input(\"You: \")\n",
        "    if \"bye\" in user_input.lower():\n",
        "      print(\"Chatbot: Goodbye! Have a great day!\")\n",
        "      break\n",
        "    else:\n",
        "      response = chatbot_response(user_input)\n",
        "      print(\"Chatbot: \", response)\n",
        "\n",
        "if __name__ == \"__main__\":\n",
        "  run_chatbot()"
      ],
      "metadata": {
        "colab": {
          "base_uri": "https://localhost:8080/"
        },
        "id": "R-GN8VuduZeM",
        "outputId": "9eccd8cb-bd10-4ca8-f023-3e43064c9d25"
      },
      "execution_count": null,
      "outputs": [
        {
          "output_type": "stream",
          "name": "stdout",
          "text": [
            "Chatbot: Hello! Type 'bye' to exit.\n",
            "You: hi\n",
            "Chatbot:  Hello, how can I assist you?\n",
            "You: how was your day\n",
            "Chatbot:  It was good, what about you?\n",
            "You: bye\n",
            "Chatbot: Goodbye! Have a great day!\n"
          ]
        }
      ]
    },
    {
      "cell_type": "code",
      "source": [
        "def chatbot_response(user_input):\n",
        "  user_input = user_input.lower()  # Convert input to lowercase\n",
        "\n",
        "  if \"hello\" in user_input or \"hi\" in user_input:\n",
        "    return \"Hello, how can I assist you?\"\n",
        "  elif \"who are you\" in user_input:\n",
        "    return \"I am your personalized chatbot\"\n",
        "  elif \"how are you\" in user_input:\n",
        "    return \"I am good, how are you?\"\n",
        "  elif \"how was your day\" in user_input:\n",
        "    return \"It was good, what about you?\"\n",
        "  elif 'time' in user_input:\n",
        "    import datetime\n",
        "    now = datetime.datetime.now()\n",
        "    return f\"The current time is {now.strftime('%I:%M %p')}\"\n",
        "  else:\n",
        "    return \"Sorry, I didn't get you! Can you ask something else?\"\n",
        "\n",
        "def run_chatbot():\n",
        "  print(\"Chatbot: Hello! Type 'bye' to exit.\")\n",
        "  while True:\n",
        "    user_input = input(\"You: \")\n",
        "    if \"bye\" in user_input.lower():\n",
        "      print(\"Chatbot: Goodbye! Have a great day!\")\n",
        "      break\n",
        "    else:\n",
        "      response = chatbot_response(user_input)\n",
        "      print(\"Chatbot: \", response)\n",
        "\n",
        "if __name__ == \"__main__\":\n",
        "  run_chatbot()"
      ],
      "metadata": {
        "colab": {
          "base_uri": "https://localhost:8080/"
        },
        "id": "CtIYHKZAukCu",
        "outputId": "5f7b1533-2a7a-4214-f024-80fcb575af65"
      },
      "execution_count": null,
      "outputs": [
        {
          "output_type": "stream",
          "name": "stdout",
          "text": [
            "Chatbot: Hello! Type 'bye' to exit.\n",
            "You: hello\n",
            "Chatbot:  Hello, how can I assist you?\n",
            "You: time\n",
            "Chatbot:  The current time is 06:01\n",
            "You: time\n",
            "Chatbot:  The current time is 06:01\n",
            "You: bye\n",
            "Chatbot: Goodbye! Have a great day!\n"
          ]
        }
      ]
    },
    {
      "cell_type": "code",
      "source": [
        "import random # Generating random numbers\n",
        "import nltk  # NLP module\n",
        "from nltk.stem import PorterStemmer\n",
        "# Initialize NLTK and download required resources\n",
        "nltk.download('punkt_tab')\n",
        "\n",
        "stemmer = PorterStemmer()\n",
        "\n",
        "data = {\n",
        "    \"greetings\": [\"hello\", \"hi\", \"hey\", \"howdy\", \"hola\", \"good morning\", \"good afternoon\", \"good evening\", \"what's up\", \"yo\"],\n",
        "    \"responses\": [\"Hello!\", \"Hi there!\", \"Hey!\", \"Greetings!\", \"How can I help you?\", \"Nice to see you!\", \"Hi, how are you?\", \"Hey, what's going on?\"],\n",
        "    \"farewells\": [\"bye\", \"goodbye\", \"see you later\", \"take care\", \"farewell\", \"have a good day\", \"catch you later\"],\n",
        "    \"farewell_responses\": [\"Goodbye!\", \"See you later!\", \"Take care!\", \"Have a great day!\", \"Bye! Come back soon!\", \"Farewell!\"],\n",
        "    \"questions\": [\"how are you\", \"what's your name\", \"what can you do\", \"who created you\", \"what's the weather today\"],\n",
        "    \"question_responses\": [\"I'm just a bot, but I'm doing great!\", \"I'm your friendly chatbot!\", \"I can answer questions and chat with you.\", \"I was created to test.\", \"I don't know the weather, but you can check online!\"],\n",
        "    \"small_talk\": [\"tell me a joke\", \"what's new\", \"how's it going\", \"what are you up to\"],\n",
        "    \"small_talk_responses\": [\"Why don't scientists trust atoms? Because they make up everything!\", \"Not much, just here to chat with you!\", \"It's going well, thanks for asking!\", \"Just waiting to help you out!\"],\n",
        "}\n",
        "\n",
        "# Map intent categories to their corresponding response categories\n",
        "INTENT_RESPONSE_MAP = {\n",
        "    \"greetings\": \"responses\",\n",
        "    \"farewells\": \"farewell_responses\",\n",
        "    \"questions\": \"question_responses\",\n",
        "    \"small_talk\": \"small_talk_responses\"\n",
        "}\n",
        "def preprocess(sentence):\n",
        "    \"\"\"Tokenize and stem the input sentence\"\"\"\n",
        "    tokens = nltk.word_tokenize(sentence.lower())\n",
        "    return [stemmer.stem(token) for token in tokens]\n",
        "\n",
        "def get_response(user_input):\n",
        "    \"\"\"Return a response based on the user's input\"\"\"\n",
        "    processed_input = preprocess(user_input)\n",
        "\n",
        "    # Check all pattern categories\n",
        "    for intent_category, response_category in INTENT_RESPONSE_MAP.items():\n",
        "        for pattern in data[intent_category]:\n",
        "            processed_pattern = preprocess(pattern)\n",
        "            if set(processed_pattern).issubset(set(processed_input)):  # More accurate matching\n",
        "                return random.choice(data[response_category])\n",
        "\n",
        "    # Fallback response for unknown inputs\n",
        "    return \"I'm not sure how to respond to that. Could you rephrase that?\"\n",
        "\n",
        "def chat():\n",
        "    \"\"\"Main chatbot function\"\"\"\n",
        "    print(\"Chatbot: Hello! I'm your friendly chatbot. Type 'exit' to end the conversation.\")\n",
        "    while True:\n",
        "        user_input = input(\"You: \").strip()\n",
        "        if user_input.lower() == \"exit\":\n",
        "            print(\"Chatbot: Goodbye! Have a great day!\")\n",
        "            break\n",
        "        response = get_response(user_input)\n",
        "        print(f\"Chatbot: {response}\")\n",
        "\n",
        "if __name__ == \"__main__\":\n",
        "    chat()"
      ],
      "metadata": {
        "id": "flkDDiWHvjzu",
        "colab": {
          "base_uri": "https://localhost:8080/"
        },
        "outputId": "c6f5054e-5a41-4708-fd38-f68b8888c492"
      },
      "execution_count": null,
      "outputs": [
        {
          "output_type": "stream",
          "name": "stderr",
          "text": [
            "[nltk_data] Downloading package punkt_tab to /root/nltk_data...\n",
            "[nltk_data]   Unzipping tokenizers/punkt_tab.zip.\n"
          ]
        },
        {
          "output_type": "stream",
          "name": "stdout",
          "text": [
            "Chatbot: Hello! I'm your friendly chatbot. Type 'exit' to end the conversation.\n",
            "You: hello\n",
            "Chatbot: Hey, what's going on?\n",
            "You: how are you\n",
            "Chatbot: I can answer questions and chat with you.\n",
            "You: tell me a joke\n",
            "Chatbot: Just waiting to help you out!\n",
            "You: good afternoon\n",
            "Chatbot: Nice to see you!\n",
            "You: bye\n",
            "Chatbot: Bye! Come back soon!\n"
          ]
        }
      ]
    },
    {
      "cell_type": "code",
      "source": [],
      "metadata": {
        "id": "E6MFRjPPtVV1"
      },
      "execution_count": null,
      "outputs": []
    }
  ]
}